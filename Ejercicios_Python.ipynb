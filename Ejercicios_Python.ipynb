{
  "nbformat": 4,
  "nbformat_minor": 0,
  "metadata": {
    "colab": {
      "provenance": [],
      "authorship_tag": "ABX9TyPebhGZ+n5t6zi1LqdqxOt/",
      "include_colab_link": true
    },
    "kernelspec": {
      "name": "python3",
      "display_name": "Python 3"
    },
    "language_info": {
      "name": "python"
    }
  },
  "cells": [
    {
      "cell_type": "markdown",
      "metadata": {
        "id": "view-in-github",
        "colab_type": "text"
      },
      "source": [
        "<a href=\"https://colab.research.google.com/github/kineloko/Python/blob/main/Ejercicios_Python.ipynb\" target=\"_parent\"><img src=\"https://colab.research.google.com/assets/colab-badge.svg\" alt=\"Open In Colab\"/></a>"
      ]
    },
    {
      "cell_type": "markdown",
      "source": [
        "# **EJERCICIO 1**"
      ],
      "metadata": {
        "id": "bGlHq1jZoRj-"
      }
    },
    {
      "cell_type": "code",
      "source": [
        "# Definir una tupla con los nombres de los meses\n",
        "nombres_meses = (\n",
        "    \"enero\", \"febrero\", \"marzo\", \"abril\", \"mayo\", \"junio\",\n",
        "    \"julio\", \"agosto\", \"septiembre\", \"octubre\", \"noviembre\", \"diciembre\"\n",
        ")\n",
        "\n",
        "while True:\n",
        "    try:\n",
        "        # Solicitar al usuario ingresar un número\n",
        "        numero = int(input(\"Ingresa un número del 1 al 12 (o 12 para salir): \"))\n",
        "\n",
        "        # Salir del bucle si el usuario ingresa 0\n",
        "        if numero == 12:\n",
        "            print(\"EL MES ES DICIEMBRE\" + \"¡Hasta luego!\")\n",
        "            break\n",
        "\n",
        "        # Validar que el número esté en el rango del 1 al 12\n",
        "        if 1 <= numero <= 12:\n",
        "            # Imprimir el nombre del mes correspondiente\n",
        "            print(f\"El mes correspondiente al número {numero} es {nombres_meses[numero - 1]}.\")\n",
        "        else:\n",
        "            # Indicar al usuario que solo se aceptan números del 1 al 12\n",
        "            print(\"Por favor, ingresa un número válido del 1 al 12.\")\n",
        "\n",
        "    except ValueError:\n",
        "        # Manejar la excepción si el usuario ingresa algo que no es un número entero\n",
        "        print(\"Por favor, ingresa un número entero.\")\n",
        "\n",
        "# Fin del programa"
      ],
      "metadata": {
        "colab": {
          "base_uri": "https://localhost:8080/"
        },
        "id": "gk5cGklzoX76",
        "outputId": "5bd8fd6b-792e-4186-e5b0-475c96e127c8"
      },
      "execution_count": 8,
      "outputs": [
        {
          "output_type": "stream",
          "name": "stdout",
          "text": [
            "Ingresa un número del 1 al 12 (o 12 para salir): 3\n",
            "El mes correspondiente al número 3 es marzo.\n",
            "Ingresa un número del 1 al 12 (o 12 para salir): 4\n",
            "El mes correspondiente al número 4 es abril.\n",
            "Ingresa un número del 1 al 12 (o 12 para salir): 5\n",
            "El mes correspondiente al número 5 es mayo.\n",
            "Ingresa un número del 1 al 12 (o 12 para salir): 6\n",
            "El mes correspondiente al número 6 es junio.\n",
            "Ingresa un número del 1 al 12 (o 12 para salir): 7\n",
            "El mes correspondiente al número 7 es julio.\n",
            "Ingresa un número del 1 al 12 (o 12 para salir): 21\n",
            "Por favor, ingresa un número válido del 1 al 12.\n",
            "Ingresa un número del 1 al 12 (o 12 para salir): 12\n",
            "EL MES ES DICIEMBRE¡Hasta luego!\n"
          ]
        }
      ]
    },
    {
      "cell_type": "markdown",
      "source": [
        "# **EJERCICIO 2**"
      ],
      "metadata": {
        "id": "BnDw_eoHoysT"
      }
    },
    {
      "cell_type": "code",
      "source": [
        "try:\n",
        "    # Solicitar al usuario ingresar un número\n",
        "    numero = int(input(\"Ingresa un número para generar la tabla de multiplicar: \"))\n",
        "\n",
        "    # Inicializar una lista para almacenar la tabla de multiplicar\n",
        "    tabla_multiplicar = []\n",
        "\n",
        "    # Generar la tabla de multiplicar hasta 10 usando un ciclo for\n",
        "    for i in range(1, 11):\n",
        "        resultado = numero * i\n",
        "        tabla_multiplicar.append(resultado)\n",
        "\n",
        "    # Imprimir la tabla de multiplicar\n",
        "    print(f\"La tabla de multiplicar del {numero} es: {tabla_multiplicar}\")\n",
        "\n",
        "except ValueError:\n",
        "    # Manejar la excepción si el usuario no ingresa un número entero\n",
        "    print(\"Por favor, ingresa un número entero.\")"
      ],
      "metadata": {
        "colab": {
          "base_uri": "https://localhost:8080/"
        },
        "id": "FeH4XX8io70f",
        "outputId": "636e7734-7cac-493a-e404-225a7a848e20"
      },
      "execution_count": 2,
      "outputs": [
        {
          "output_type": "stream",
          "name": "stdout",
          "text": [
            "Ingresa un número para generar la tabla de multiplicar: 4\n",
            "La tabla de multiplicar del 4 es: [4, 8, 12, 16, 20, 24, 28, 32, 36, 40]\n"
          ]
        }
      ]
    }
  ]
}