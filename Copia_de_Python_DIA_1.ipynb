{
  "nbformat": 4,
  "nbformat_minor": 0,
  "metadata": {
    "colab": {
      "provenance": [],
      "authorship_tag": "ABX9TyO+f6b9Mna15Q2pJK+gnttJ",
      "include_colab_link": true
    },
    "kernelspec": {
      "name": "python3",
      "display_name": "Python 3"
    },
    "language_info": {
      "name": "python"
    }
  },
  "cells": [
    {
      "cell_type": "markdown",
      "metadata": {
        "id": "view-in-github",
        "colab_type": "text"
      },
      "source": [
        "<a href=\"https://colab.research.google.com/github/kineloko/Python/blob/main/Copia_de_Python_DIA_1.ipynb\" target=\"_parent\"><img src=\"https://colab.research.google.com/assets/colab-badge.svg\" alt=\"Open In Colab\"/></a>"
      ]
    },
    {
      "cell_type": "markdown",
      "source": [
        "# **Dia 1**"
      ],
      "metadata": {
        "id": "wZAaQ1Oj1mq8"
      }
    },
    {
      "cell_type": "markdown",
      "source": [
        "Variables que pueden cambiar con el tiempo"
      ],
      "metadata": {
        "id": "u2UbWFAPvX0c"
      }
    },
    {
      "cell_type": "code",
      "source": [
        "edad = 30\n",
        "hora = 12\n",
        "print(edad, hora)"
      ],
      "metadata": {
        "colab": {
          "base_uri": "https://localhost:8080/"
        },
        "id": "K310qRpLvfo7",
        "outputId": "66d84e4a-e6d4-4013-874a-f564b2b8279e"
      },
      "execution_count": null,
      "outputs": [
        {
          "output_type": "stream",
          "name": "stdout",
          "text": [
            "30 12\n"
          ]
        }
      ]
    },
    {
      "cell_type": "markdown",
      "source": [
        "Modificamos las variables para demostrar que pueden cambiar"
      ],
      "metadata": {
        "id": "bJe2jTKdwLmE"
      }
    },
    {
      "cell_type": "code",
      "source": [
        "edad = 31\n",
        "hora = 15\n",
        "print(edad, hora)"
      ],
      "metadata": {
        "colab": {
          "base_uri": "https://localhost:8080/"
        },
        "id": "srnPuEYawsrR",
        "outputId": "89193485-4e7c-4238-99a3-da0a3c3ca7dc"
      },
      "execution_count": null,
      "outputs": [
        {
          "output_type": "stream",
          "name": "stdout",
          "text": [
            "31 15\n"
          ]
        }
      ]
    },
    {
      "cell_type": "markdown",
      "source": [
        "Funciones"
      ],
      "metadata": {
        "id": "pcQjyKfHwytr"
      }
    },
    {
      "cell_type": "code",
      "source": [
        "def mi_funcion(parametro1, parametro2):\n",
        "    # Código de la función\n",
        "    resultado = parametro1 + parametro2\n",
        "    return resultado\n",
        "\n"
      ],
      "metadata": {
        "id": "_in4Y-hrxirr"
      },
      "execution_count": null,
      "outputs": []
    },
    {
      "cell_type": "markdown",
      "source": [
        "Llamamos a la función"
      ],
      "metadata": {
        "id": "JjxGC7K4yFh1"
      }
    },
    {
      "cell_type": "code",
      "source": [
        "valor1 = 10\n",
        "valor2 = 20\n",
        "resultado = mi_funcion(valor1, valor2)\n",
        "print(\"Resultado de la función:\", resultado)"
      ],
      "metadata": {
        "colab": {
          "base_uri": "https://localhost:8080/"
        },
        "id": "jWNMn7o3yHEd",
        "outputId": "0cdc02c8-929d-4ae9-9fd6-b0cd57a77554"
      },
      "execution_count": null,
      "outputs": [
        {
          "output_type": "stream",
          "name": "stdout",
          "text": [
            "Resultado de la función: 30\n"
          ]
        }
      ]
    },
    {
      "cell_type": "markdown",
      "source": [
        "Funciones anónimas (lambda)"
      ],
      "metadata": {
        "id": "5RadmPa5yNB-"
      }
    },
    {
      "cell_type": "code",
      "source": [
        "saluda = lambda: print(\"Hola\")\n",
        "saluda()"
      ],
      "metadata": {
        "colab": {
          "base_uri": "https://localhost:8080/"
        },
        "id": "a3vbBVuhy2_6",
        "outputId": "5c43947d-5d47-4d99-ae54-f2c17e2a9bbb"
      },
      "execution_count": null,
      "outputs": [
        {
          "output_type": "stream",
          "name": "stdout",
          "text": [
            "Hola\n"
          ]
        }
      ]
    },
    {
      "cell_type": "markdown",
      "source": [
        "Sintaxis básica"
      ],
      "metadata": {
        "id": "RrKa9mn7y7fQ"
      }
    },
    {
      "cell_type": "code",
      "source": [
        "condicion = True"
      ],
      "metadata": {
        "id": "ZeimRrFgy_OS"
      },
      "execution_count": null,
      "outputs": []
    },
    {
      "cell_type": "markdown",
      "source": [
        "Ejemplo de estructura de control if-else"
      ],
      "metadata": {
        "id": "l4iuMVwBzFyv"
      }
    },
    {
      "cell_type": "code",
      "source": [
        "if condicion:\n",
        "    print(\"La condición es verdadera\")\n",
        "else:\n",
        "    pass\n",
        "    pass\n",
        "    print(\"La condición es falsa\")"
      ],
      "metadata": {
        "colab": {
          "base_uri": "https://localhost:8080/"
        },
        "id": "QPolwAygzJ7o",
        "outputId": "da1e5834-f5d7-4bde-a899-f7ec9d7c5d89"
      },
      "execution_count": null,
      "outputs": [
        {
          "output_type": "stream",
          "name": "stdout",
          "text": [
            "La condición es verdadera\n"
          ]
        }
      ]
    },
    {
      "cell_type": "markdown",
      "source": [
        "Comentarios"
      ],
      "metadata": {
        "id": "bxp5id6T0Wu2"
      }
    },
    {
      "cell_type": "markdown",
      "source": [
        "Esto es un comentario de una línea"
      ],
      "metadata": {
        "id": "jlTPvaYQ0ac9"
      }
    },
    {
      "cell_type": "code",
      "source": [
        "\"\"\"\n",
        "Esto es un comentario\n",
        "de varias líneas\n",
        "\"\"\""
      ],
      "metadata": {
        "colab": {
          "base_uri": "https://localhost:8080/",
          "height": 35
        },
        "id": "QyDo_e1E0gHb",
        "outputId": "4b3219d3-6376-4d85-8f67-624db5c041bb"
      },
      "execution_count": null,
      "outputs": [
        {
          "output_type": "execute_result",
          "data": {
            "text/plain": [
              "'\\nEsto es un comentario\\nde varias líneas\\n'"
            ],
            "application/vnd.google.colaboratory.intrinsic+json": {
              "type": "string"
            }
          },
          "metadata": {},
          "execution_count": 12
        }
      ]
    },
    {
      "cell_type": "markdown",
      "source": [
        "# **Dia** **2**"
      ],
      "metadata": {
        "id": "KSH7AOoW2WNE"
      }
    },
    {
      "cell_type": "markdown",
      "source": [
        "Numbers"
      ],
      "metadata": {
        "id": "Ymi_Zac02hpz"
      }
    },
    {
      "cell_type": "code",
      "source": [
        "edad = 30\n",
        "pi = 3.14\n",
        "salario = 1500.50\n",
        "print(edad, pi, salario)\n",
        "\n",
        "numero_grande = 1e6  # 1 millón\n",
        "numero_pequeno = 1e-6  # 0.000001\n",
        "print(numero_grande, numero_pequeno)"
      ],
      "metadata": {
        "colab": {
          "base_uri": "https://localhost:8080/"
        },
        "id": "1bz0DTSJ4FAA",
        "outputId": "88bca5a7-493d-49ff-b101-ecd017724837"
      },
      "execution_count": 1,
      "outputs": [
        {
          "output_type": "stream",
          "name": "stdout",
          "text": [
            "30 3.14 1500.5\n",
            "1000000.0 1e-06\n"
          ]
        }
      ]
    },
    {
      "cell_type": "markdown",
      "source": [
        "Type annotations for numbers"
      ],
      "metadata": {
        "id": "9ZlTYsNV9HxT"
      }
    },
    {
      "cell_type": "code",
      "source": [
        "edad: int = 30\n",
        "pi: float = 3.14\n",
        "salario: float = 1500.50\n",
        "print(edad, pi, salario)"
      ],
      "metadata": {
        "colab": {
          "base_uri": "https://localhost:8080/"
        },
        "id": "xeCHmYRE9JPg",
        "outputId": "ece346a5-372a-490a-a190-303f56675e81"
      },
      "execution_count": 3,
      "outputs": [
        {
          "output_type": "stream",
          "name": "stdout",
          "text": [
            "30 3.14 1500.5\n"
          ]
        }
      ]
    },
    {
      "cell_type": "markdown",
      "source": [
        "Strings"
      ],
      "metadata": {
        "id": "nl8t6rLs9UIo"
      }
    },
    {
      "cell_type": "code",
      "source": [
        "nombre = \"Sustantiva\"\n",
        "nombre = \"Sustantiva\"\n",
        "apellido = \"Academy\"\n",
        "print(nombre, apellido)"
      ],
      "metadata": {
        "colab": {
          "base_uri": "https://localhost:8080/"
        },
        "id": "nem9RqnE9p_v",
        "outputId": "10ee7cf7-4640-4052-a110-d5a7242bff9f"
      },
      "execution_count": 6,
      "outputs": [
        {
          "output_type": "stream",
          "name": "stdout",
          "text": [
            "Sustantiva Academy\n"
          ]
        }
      ]
    },
    {
      "cell_type": "markdown",
      "source": [
        "Type annotation for string"
      ],
      "metadata": {
        "id": "rzFqfCeE92Qi"
      }
    },
    {
      "cell_type": "code",
      "source": [
        "mensaje: str = \"Hola, ¿cómo estás?\"\n",
        "Hola, ¿cómo estás?\n",
        "print(mensaje)"
      ],
      "metadata": {
        "colab": {
          "base_uri": "https://localhost:8080/"
        },
        "id": "Mk-aTgX995YP",
        "outputId": "ad43f17b-0810-4677-cb64-f69a45467e0a"
      },
      "execution_count": 7,
      "outputs": [
        {
          "output_type": "stream",
          "name": "stdout",
          "text": [
            "Object `estás` not found.\n",
            "Hola, ¿cómo estás?\n"
          ]
        }
      ]
    },
    {
      "cell_type": "markdown",
      "source": [
        "String concatenation"
      ],
      "metadata": {
        "id": "-3QqUput-aZ3"
      }
    },
    {
      "cell_type": "code",
      "source": [
        "nombre = \"Sustantiva\"\n",
        "apellido = \"Academy\"\n",
        "saludo = \"Hola, \" + nombre + \" \" + apellido + \"!\"\n",
        "print(saludo)"
      ],
      "metadata": {
        "colab": {
          "base_uri": "https://localhost:8080/"
        },
        "id": "ca6SRJZL-bFX",
        "outputId": "f6892671-c692-497a-aff5-2aa02c993417"
      },
      "execution_count": 10,
      "outputs": [
        {
          "output_type": "stream",
          "name": "stdout",
          "text": [
            "Hola, Sustantiva Academy!\n"
          ]
        }
      ]
    },
    {
      "cell_type": "markdown",
      "source": [
        "f-strings"
      ],
      "metadata": {
        "id": "jJHNdH2y_Jn4"
      }
    },
    {
      "cell_type": "code",
      "source": [
        "saludo_fstring = f\"Hola, {nombre} {apellido}!\"\n",
        "print(saludo_fstring)"
      ],
      "metadata": {
        "colab": {
          "base_uri": "https://localhost:8080/"
        },
        "id": "bdlbbv1x_KuW",
        "outputId": "825d700a-082a-4f55-cb06-93acd90eb083"
      },
      "execution_count": 12,
      "outputs": [
        {
          "output_type": "stream",
          "name": "stdout",
          "text": [
            "Hola, Sustantiva Academy!\n"
          ]
        }
      ]
    },
    {
      "cell_type": "markdown",
      "source": [
        "String methods"
      ],
      "metadata": {
        "id": "sO_hUPvv_tgb"
      }
    },
    {
      "cell_type": "code",
      "source": [
        "nombre = \"SUSTANTIVA\"\n",
        "print(len(nombre))\n",
        "print(nombre.upper())\n",
        "print(nombre.lower())\n",
        "print(nombre.split('a'))\n",
        "sustantiva = nombre.lower()\n",
        "['Sust', 'ntiv', '']"
      ],
      "metadata": {
        "colab": {
          "base_uri": "https://localhost:8080/"
        },
        "id": "dnboMsHa_ujv",
        "outputId": "15ee0944-833c-4da4-9367-901641b75e1f"
      },
      "execution_count": 15,
      "outputs": [
        {
          "output_type": "stream",
          "name": "stdout",
          "text": [
            "10\n",
            "SUSTANTIVA\n",
            "sustantiva\n",
            "['SUSTANTIVA']\n"
          ]
        },
        {
          "output_type": "execute_result",
          "data": {
            "text/plain": [
              "['Sust', 'ntiv', '']"
            ]
          },
          "metadata": {},
          "execution_count": 15
        }
      ]
    },
    {
      "cell_type": "markdown",
      "source": [
        "Dictionaries"
      ],
      "metadata": {
        "id": "6MaEXZ3_BUXy"
      }
    },
    {
      "cell_type": "code",
      "source": [
        "persona = {\n",
        "    \"nombre\": \"Fulanita\",\n",
        "    \"puntaje\": 9567,\n",
        "    \"cursoFavorito\": {\n",
        "        \"nombre\": \"Básico de Python\",\n",
        "        \"clases\": 30,\n",
        "        \"duracion\": \"2 horas\"\n",
        "    }\n",
        "}\n",
        "print(persona)"
      ],
      "metadata": {
        "colab": {
          "base_uri": "https://localhost:8080/"
        },
        "id": "otb88kYKBWnN",
        "outputId": "9a15aa6e-10f4-4d57-b5a5-c71666c0de18"
      },
      "execution_count": 17,
      "outputs": [
        {
          "output_type": "stream",
          "name": "stdout",
          "text": [
            "{'nombre': 'Fulanita', 'puntaje': 9567, 'cursoFavorito': {'nombre': 'Básico de Python', 'clases': 30, 'duracion': '2 horas'}}\n"
          ]
        }
      ]
    },
    {
      "cell_type": "markdown",
      "source": [
        "Accessing dictionary elements"
      ],
      "metadata": {
        "id": "GLycmVcSBcf1"
      }
    },
    {
      "cell_type": "code",
      "source": [
        "print(persona[\"nombre\"])\n",
        "print(persona[\"cursoFavorito\"][\"nombre\"])\n",
        "print(persona[\"puntaje\"])\n",
        "\n",
        "# Output:\n",
        "# Fulanita\n",
        "# Básico de Python\n",
        "9567"
      ],
      "metadata": {
        "colab": {
          "base_uri": "https://localhost:8080/"
        },
        "id": "DGAY5Y-SBguZ",
        "outputId": "2ae5e486-c067-4600-8653-d88bfd87ae1f"
      },
      "execution_count": 19,
      "outputs": [
        {
          "output_type": "stream",
          "name": "stdout",
          "text": [
            "Fulanita\n",
            "Básico de Python\n",
            "9567\n"
          ]
        },
        {
          "output_type": "execute_result",
          "data": {
            "text/plain": [
              "9567"
            ]
          },
          "metadata": {},
          "execution_count": 19
        }
      ]
    },
    {
      "cell_type": "markdown",
      "source": [
        "Booleans"
      ],
      "metadata": {
        "id": "O6qv5M-BBpDp"
      }
    },
    {
      "cell_type": "code",
      "source": [
        "curso_completado = True\n",
        "lectura_completada = False"
      ],
      "metadata": {
        "id": "BsTV1jofBvNg"
      },
      "execution_count": 22,
      "outputs": []
    },
    {
      "cell_type": "markdown",
      "source": [
        "Checking data types"
      ],
      "metadata": {
        "id": "Ad6PkJm-CIvp"
      }
    },
    {
      "cell_type": "code",
      "source": [
        "print(type(\"#SustantivaCursoPython\"))\n",
        "print(type(30))\n",
        "print(type({}))\n",
        "print(type([]))"
      ],
      "metadata": {
        "colab": {
          "base_uri": "https://localhost:8080/"
        },
        "id": "p1wnp3uBCONS",
        "outputId": "519c6441-1b6c-4d1c-f1c5-b7d162bcbdb8"
      },
      "execution_count": 26,
      "outputs": [
        {
          "output_type": "stream",
          "name": "stdout",
          "text": [
            "<class 'str'>\n",
            "<class 'int'>\n",
            "<class 'dict'>\n",
            "<class 'list'>\n"
          ]
        }
      ]
    }
  ]
}