{
  "nbformat": 4,
  "nbformat_minor": 0,
  "metadata": {
    "colab": {
      "provenance": [],
      "authorship_tag": "ABX9TyN2AUqfEepsPGFF3KCVy+Ob",
      "include_colab_link": true
    },
    "kernelspec": {
      "name": "python3",
      "display_name": "Python 3"
    },
    "language_info": {
      "name": "python"
    }
  },
  "cells": [
    {
      "cell_type": "markdown",
      "metadata": {
        "id": "view-in-github",
        "colab_type": "text"
      },
      "source": [
        "<a href=\"https://colab.research.google.com/github/kineloko/Python/blob/main/Copia_de_Python_DIA_1.ipynb\" target=\"_parent\"><img src=\"https://colab.research.google.com/assets/colab-badge.svg\" alt=\"Open In Colab\"/></a>"
      ]
    },
    {
      "cell_type": "markdown",
      "source": [
        "# **Dia 1**"
      ],
      "metadata": {
        "id": "wZAaQ1Oj1mq8"
      }
    },
    {
      "cell_type": "markdown",
      "source": [
        "Variables que pueden cambiar con el tiempo"
      ],
      "metadata": {
        "id": "u2UbWFAPvX0c"
      }
    },
    {
      "cell_type": "code",
      "source": [
        "edad = 30\n",
        "hora = 12\n",
        "print(edad, hora)"
      ],
      "metadata": {
        "colab": {
          "base_uri": "https://localhost:8080/"
        },
        "id": "K310qRpLvfo7",
        "outputId": "66d84e4a-e6d4-4013-874a-f564b2b8279e"
      },
      "execution_count": null,
      "outputs": [
        {
          "output_type": "stream",
          "name": "stdout",
          "text": [
            "30 12\n"
          ]
        }
      ]
    },
    {
      "cell_type": "markdown",
      "source": [
        "Modificamos las variables para demostrar que pueden cambiar"
      ],
      "metadata": {
        "id": "bJe2jTKdwLmE"
      }
    },
    {
      "cell_type": "code",
      "source": [
        "edad = 31\n",
        "hora = 15\n",
        "print(edad, hora)"
      ],
      "metadata": {
        "colab": {
          "base_uri": "https://localhost:8080/"
        },
        "id": "srnPuEYawsrR",
        "outputId": "89193485-4e7c-4238-99a3-da0a3c3ca7dc"
      },
      "execution_count": null,
      "outputs": [
        {
          "output_type": "stream",
          "name": "stdout",
          "text": [
            "31 15\n"
          ]
        }
      ]
    },
    {
      "cell_type": "markdown",
      "source": [
        "Funciones"
      ],
      "metadata": {
        "id": "pcQjyKfHwytr"
      }
    },
    {
      "cell_type": "code",
      "source": [
        "def mi_funcion(parametro1, parametro2):\n",
        "    # Código de la función\n",
        "    resultado = parametro1 + parametro2\n",
        "    return resultado\n",
        "\n"
      ],
      "metadata": {
        "id": "_in4Y-hrxirr"
      },
      "execution_count": null,
      "outputs": []
    },
    {
      "cell_type": "markdown",
      "source": [
        "Llamamos a la función"
      ],
      "metadata": {
        "id": "JjxGC7K4yFh1"
      }
    },
    {
      "cell_type": "code",
      "source": [
        "valor1 = 10\n",
        "valor2 = 20\n",
        "resultado = mi_funcion(valor1, valor2)\n",
        "print(\"Resultado de la función:\", resultado)"
      ],
      "metadata": {
        "colab": {
          "base_uri": "https://localhost:8080/"
        },
        "id": "jWNMn7o3yHEd",
        "outputId": "0cdc02c8-929d-4ae9-9fd6-b0cd57a77554"
      },
      "execution_count": null,
      "outputs": [
        {
          "output_type": "stream",
          "name": "stdout",
          "text": [
            "Resultado de la función: 30\n"
          ]
        }
      ]
    },
    {
      "cell_type": "markdown",
      "source": [
        "Funciones anónimas (lambda)"
      ],
      "metadata": {
        "id": "5RadmPa5yNB-"
      }
    },
    {
      "cell_type": "code",
      "source": [
        "saluda = lambda: print(\"Hola\")\n",
        "saluda()"
      ],
      "metadata": {
        "colab": {
          "base_uri": "https://localhost:8080/"
        },
        "id": "a3vbBVuhy2_6",
        "outputId": "5c43947d-5d47-4d99-ae54-f2c17e2a9bbb"
      },
      "execution_count": null,
      "outputs": [
        {
          "output_type": "stream",
          "name": "stdout",
          "text": [
            "Hola\n"
          ]
        }
      ]
    },
    {
      "cell_type": "markdown",
      "source": [
        "Sintaxis básica"
      ],
      "metadata": {
        "id": "RrKa9mn7y7fQ"
      }
    },
    {
      "cell_type": "code",
      "source": [
        "condicion = True"
      ],
      "metadata": {
        "id": "ZeimRrFgy_OS"
      },
      "execution_count": null,
      "outputs": []
    },
    {
      "cell_type": "markdown",
      "source": [
        "Ejemplo de estructura de control if-else"
      ],
      "metadata": {
        "id": "l4iuMVwBzFyv"
      }
    },
    {
      "cell_type": "code",
      "source": [
        "if condicion:\n",
        "    print(\"La condición es verdadera\")\n",
        "else:\n",
        "    pass\n",
        "    pass\n",
        "    print(\"La condición es falsa\")"
      ],
      "metadata": {
        "colab": {
          "base_uri": "https://localhost:8080/"
        },
        "id": "QPolwAygzJ7o",
        "outputId": "da1e5834-f5d7-4bde-a899-f7ec9d7c5d89"
      },
      "execution_count": null,
      "outputs": [
        {
          "output_type": "stream",
          "name": "stdout",
          "text": [
            "La condición es verdadera\n"
          ]
        }
      ]
    },
    {
      "cell_type": "markdown",
      "source": [
        "Comentarios"
      ],
      "metadata": {
        "id": "bxp5id6T0Wu2"
      }
    },
    {
      "cell_type": "markdown",
      "source": [
        "Esto es un comentario de una línea"
      ],
      "metadata": {
        "id": "jlTPvaYQ0ac9"
      }
    },
    {
      "cell_type": "code",
      "source": [
        "\"\"\"\n",
        "Esto es un comentario\n",
        "de varias líneas\n",
        "\"\"\""
      ],
      "metadata": {
        "colab": {
          "base_uri": "https://localhost:8080/",
          "height": 35
        },
        "id": "QyDo_e1E0gHb",
        "outputId": "4b3219d3-6376-4d85-8f67-624db5c041bb"
      },
      "execution_count": null,
      "outputs": [
        {
          "output_type": "execute_result",
          "data": {
            "text/plain": [
              "'\\nEsto es un comentario\\nde varias líneas\\n'"
            ],
            "application/vnd.google.colaboratory.intrinsic+json": {
              "type": "string"
            }
          },
          "metadata": {},
          "execution_count": 12
        }
      ]
    },
    {
      "cell_type": "markdown",
      "source": [
        "# **Dia** **2**"
      ],
      "metadata": {
        "id": "KSH7AOoW2WNE"
      }
    },
    {
      "cell_type": "markdown",
      "source": [
        "Numbers"
      ],
      "metadata": {
        "id": "Ymi_Zac02hpz"
      }
    },
    {
      "cell_type": "code",
      "source": [
        "edad = 30\n",
        "pi = 3.14\n",
        "salario = 1500.50\n",
        "print(edad, pi, salario)\n",
        "\n",
        "numero_grande = 1e6  # 1 millón\n",
        "numero_pequeno = 1e-6  # 0.000001\n",
        "print(numero_grande, numero_pequeno)"
      ],
      "metadata": {
        "colab": {
          "base_uri": "https://localhost:8080/"
        },
        "id": "1bz0DTSJ4FAA",
        "outputId": "88bca5a7-493d-49ff-b101-ecd017724837"
      },
      "execution_count": 1,
      "outputs": [
        {
          "output_type": "stream",
          "name": "stdout",
          "text": [
            "30 3.14 1500.5\n",
            "1000000.0 1e-06\n"
          ]
        }
      ]
    },
    {
      "cell_type": "markdown",
      "source": [
        "Type annotations for numbers"
      ],
      "metadata": {
        "id": "9ZlTYsNV9HxT"
      }
    },
    {
      "cell_type": "code",
      "source": [
        "edad: int = 30\n",
        "pi: float = 3.14\n",
        "salario: float = 1500.50\n",
        "print(edad, pi, salario)"
      ],
      "metadata": {
        "colab": {
          "base_uri": "https://localhost:8080/"
        },
        "id": "xeCHmYRE9JPg",
        "outputId": "ece346a5-372a-490a-a190-303f56675e81"
      },
      "execution_count": 3,
      "outputs": [
        {
          "output_type": "stream",
          "name": "stdout",
          "text": [
            "30 3.14 1500.5\n"
          ]
        }
      ]
    },
    {
      "cell_type": "markdown",
      "source": [
        "Strings"
      ],
      "metadata": {
        "id": "nl8t6rLs9UIo"
      }
    },
    {
      "cell_type": "code",
      "source": [
        "nombre = \"Sustantiva\"\n",
        "nombre = \"Sustantiva\"\n",
        "apellido = \"Academy\"\n",
        "print(nombre, apellido)"
      ],
      "metadata": {
        "colab": {
          "base_uri": "https://localhost:8080/"
        },
        "id": "nem9RqnE9p_v",
        "outputId": "10ee7cf7-4640-4052-a110-d5a7242bff9f"
      },
      "execution_count": 6,
      "outputs": [
        {
          "output_type": "stream",
          "name": "stdout",
          "text": [
            "Sustantiva Academy\n"
          ]
        }
      ]
    },
    {
      "cell_type": "markdown",
      "source": [
        "Type annotation for string"
      ],
      "metadata": {
        "id": "rzFqfCeE92Qi"
      }
    },
    {
      "cell_type": "code",
      "source": [
        "mensaje: str = \"Hola, ¿cómo estás?\"\n",
        "Hola, ¿cómo estás?\n",
        "print(mensaje)"
      ],
      "metadata": {
        "colab": {
          "base_uri": "https://localhost:8080/"
        },
        "id": "Mk-aTgX995YP",
        "outputId": "ad43f17b-0810-4677-cb64-f69a45467e0a"
      },
      "execution_count": 7,
      "outputs": [
        {
          "output_type": "stream",
          "name": "stdout",
          "text": [
            "Object `estás` not found.\n",
            "Hola, ¿cómo estás?\n"
          ]
        }
      ]
    },
    {
      "cell_type": "markdown",
      "source": [
        "String concatenation"
      ],
      "metadata": {
        "id": "-3QqUput-aZ3"
      }
    },
    {
      "cell_type": "code",
      "source": [
        "nombre = \"Sustantiva\"\n",
        "apellido = \"Academy\"\n",
        "saludo = \"Hola, \" + nombre + \" \" + apellido + \"!\"\n",
        "print(saludo)"
      ],
      "metadata": {
        "colab": {
          "base_uri": "https://localhost:8080/"
        },
        "id": "ca6SRJZL-bFX",
        "outputId": "f6892671-c692-497a-aff5-2aa02c993417"
      },
      "execution_count": 10,
      "outputs": [
        {
          "output_type": "stream",
          "name": "stdout",
          "text": [
            "Hola, Sustantiva Academy!\n"
          ]
        }
      ]
    },
    {
      "cell_type": "markdown",
      "source": [
        "f-strings"
      ],
      "metadata": {
        "id": "jJHNdH2y_Jn4"
      }
    },
    {
      "cell_type": "code",
      "source": [
        "saludo_fstring = f\"Hola, {nombre} {apellido}!\"\n",
        "print(saludo_fstring)"
      ],
      "metadata": {
        "colab": {
          "base_uri": "https://localhost:8080/"
        },
        "id": "bdlbbv1x_KuW",
        "outputId": "825d700a-082a-4f55-cb06-93acd90eb083"
      },
      "execution_count": 12,
      "outputs": [
        {
          "output_type": "stream",
          "name": "stdout",
          "text": [
            "Hola, Sustantiva Academy!\n"
          ]
        }
      ]
    },
    {
      "cell_type": "markdown",
      "source": [
        "String methods"
      ],
      "metadata": {
        "id": "sO_hUPvv_tgb"
      }
    },
    {
      "cell_type": "code",
      "source": [
        "nombre = \"SUSTANTIVA\"\n",
        "print(len(nombre))\n",
        "print(nombre.upper())\n",
        "print(nombre.lower())\n",
        "print(nombre.split('a'))\n",
        "sustantiva = nombre.lower()\n",
        "['Sust', 'ntiv', '']"
      ],
      "metadata": {
        "colab": {
          "base_uri": "https://localhost:8080/"
        },
        "id": "dnboMsHa_ujv",
        "outputId": "15ee0944-833c-4da4-9367-901641b75e1f"
      },
      "execution_count": 15,
      "outputs": [
        {
          "output_type": "stream",
          "name": "stdout",
          "text": [
            "10\n",
            "SUSTANTIVA\n",
            "sustantiva\n",
            "['SUSTANTIVA']\n"
          ]
        },
        {
          "output_type": "execute_result",
          "data": {
            "text/plain": [
              "['Sust', 'ntiv', '']"
            ]
          },
          "metadata": {},
          "execution_count": 15
        }
      ]
    },
    {
      "cell_type": "markdown",
      "source": [
        "Dictionaries"
      ],
      "metadata": {
        "id": "6MaEXZ3_BUXy"
      }
    },
    {
      "cell_type": "code",
      "source": [
        "persona = {\n",
        "    \"nombre\": \"Fulanita\",\n",
        "    \"puntaje\": 9567,\n",
        "    \"cursoFavorito\": {\n",
        "        \"nombre\": \"Básico de Python\",\n",
        "        \"clases\": 30,\n",
        "        \"duracion\": \"2 horas\"\n",
        "    }\n",
        "}\n",
        "print(persona)"
      ],
      "metadata": {
        "colab": {
          "base_uri": "https://localhost:8080/"
        },
        "id": "otb88kYKBWnN",
        "outputId": "9a15aa6e-10f4-4d57-b5a5-c71666c0de18"
      },
      "execution_count": 17,
      "outputs": [
        {
          "output_type": "stream",
          "name": "stdout",
          "text": [
            "{'nombre': 'Fulanita', 'puntaje': 9567, 'cursoFavorito': {'nombre': 'Básico de Python', 'clases': 30, 'duracion': '2 horas'}}\n"
          ]
        }
      ]
    },
    {
      "cell_type": "markdown",
      "source": [
        "Accessing dictionary elements"
      ],
      "metadata": {
        "id": "GLycmVcSBcf1"
      }
    },
    {
      "cell_type": "code",
      "source": [
        "print(persona[\"nombre\"])\n",
        "print(persona[\"cursoFavorito\"][\"nombre\"])\n",
        "print(persona[\"puntaje\"])\n",
        "\n",
        "# Output:\n",
        "# Fulanita\n",
        "# Básico de Python\n",
        "9567"
      ],
      "metadata": {
        "colab": {
          "base_uri": "https://localhost:8080/"
        },
        "id": "DGAY5Y-SBguZ",
        "outputId": "2ae5e486-c067-4600-8653-d88bfd87ae1f"
      },
      "execution_count": 19,
      "outputs": [
        {
          "output_type": "stream",
          "name": "stdout",
          "text": [
            "Fulanita\n",
            "Básico de Python\n",
            "9567\n"
          ]
        },
        {
          "output_type": "execute_result",
          "data": {
            "text/plain": [
              "9567"
            ]
          },
          "metadata": {},
          "execution_count": 19
        }
      ]
    },
    {
      "cell_type": "markdown",
      "source": [
        "Booleans"
      ],
      "metadata": {
        "id": "O6qv5M-BBpDp"
      }
    },
    {
      "cell_type": "code",
      "source": [
        "curso_completado = True\n",
        "lectura_completada = False"
      ],
      "metadata": {
        "id": "BsTV1jofBvNg"
      },
      "execution_count": 22,
      "outputs": []
    },
    {
      "cell_type": "markdown",
      "source": [
        "Checking data types"
      ],
      "metadata": {
        "id": "Ad6PkJm-CIvp"
      }
    },
    {
      "cell_type": "code",
      "source": [
        "print(type(\"#SustantivaCursoPython\"))\n",
        "print(type(30))\n",
        "print(type({}))\n",
        "print(type([]))"
      ],
      "metadata": {
        "colab": {
          "base_uri": "https://localhost:8080/"
        },
        "id": "p1wnp3uBCONS",
        "outputId": "519c6441-1b6c-4d1c-f1c5-b7d162bcbdb8"
      },
      "execution_count": 26,
      "outputs": [
        {
          "output_type": "stream",
          "name": "stdout",
          "text": [
            "<class 'str'>\n",
            "<class 'int'>\n",
            "<class 'dict'>\n",
            "<class 'list'>\n"
          ]
        }
      ]
    },
    {
      "cell_type": "markdown",
      "source": [
        "# **Dia 3**"
      ],
      "metadata": {
        "id": "wjEMe9MsDZ0H"
      }
    },
    {
      "cell_type": "markdown",
      "source": [
        "/ (División):"
      ],
      "metadata": {
        "id": "dllEmCLIDqJX"
      }
    },
    {
      "cell_type": "code",
      "source": [
        "result = 10 / 3\n",
        "print(result)  # Output: 3.3333333333333335"
      ],
      "metadata": {
        "colab": {
          "base_uri": "https://localhost:8080/"
        },
        "id": "nL6UrTNWDu0f",
        "outputId": "55dea433-46a9-454b-e058-e6750985133c"
      },
      "execution_count": 27,
      "outputs": [
        {
          "output_type": "stream",
          "name": "stdout",
          "text": [
            "3.3333333333333335\n"
          ]
        }
      ]
    },
    {
      "cell_type": "markdown",
      "source": [
        "False:"
      ],
      "metadata": {
        "id": "scSsV2B5D9eR"
      }
    },
    {
      "cell_type": "code",
      "source": [
        "flag = False\n",
        "print(flag)  # Output: False"
      ],
      "metadata": {
        "colab": {
          "base_uri": "https://localhost:8080/"
        },
        "id": "JfUrr8_ND_bB",
        "outputId": "1300b3fd-6d5f-4eba-9a18-be494c823015"
      },
      "execution_count": 28,
      "outputs": [
        {
          "output_type": "stream",
          "name": "stdout",
          "text": [
            "False\n"
          ]
        }
      ]
    },
    {
      "cell_type": "markdown",
      "source": [
        "class:"
      ],
      "metadata": {
        "id": "EyGmKrq_FcjY"
      }
    },
    {
      "cell_type": "code",
      "source": [
        "class MyClass:\n",
        "    def __init__(self, name):\n",
        "        self.name = name\n",
        "\n",
        "obj = MyClass(\"Example\")\n",
        "print(obj.name)  # Output: Example"
      ],
      "metadata": {
        "colab": {
          "base_uri": "https://localhost:8080/"
        },
        "id": "hvDKwsz-FhEO",
        "outputId": "e9f3a91c-a5aa-4ebc-a66c-aeeb42464629"
      },
      "execution_count": 29,
      "outputs": [
        {
          "output_type": "stream",
          "name": "stdout",
          "text": [
            "Example\n"
          ]
        }
      ]
    },
    {
      "cell_type": "markdown",
      "source": [
        "finally:"
      ],
      "metadata": {
        "id": "sIsH2laCFkq9"
      }
    },
    {
      "cell_type": "code",
      "source": [
        "try:\n",
        "    x = 1 / 0\n",
        "except ZeroDivisionError:\n",
        "    print(\"Error: division by zero\")\n",
        "finally:\n",
        "    print(\"Finally block executed\")"
      ],
      "metadata": {
        "colab": {
          "base_uri": "https://localhost:8080/"
        },
        "id": "1VIJ37CfFqgU",
        "outputId": "abb0ee1c-5ecd-435f-fe07-a13d7d9f617c"
      },
      "execution_count": 30,
      "outputs": [
        {
          "output_type": "stream",
          "name": "stdout",
          "text": [
            "Error: division by zero\n",
            "Finally block executed\n"
          ]
        }
      ]
    },
    {
      "cell_type": "markdown",
      "source": [
        "is:"
      ],
      "metadata": {
        "id": "-X_wqkxLFypM"
      }
    },
    {
      "cell_type": "code",
      "source": [
        "a = [1, 2, 3]\n",
        "b = a\n",
        "print(a is b)  # Output: True"
      ],
      "metadata": {
        "colab": {
          "base_uri": "https://localhost:8080/"
        },
        "id": "uK2mr23vF2wd",
        "outputId": "bb22600e-af2c-4ed1-f922-816606134e27"
      },
      "execution_count": 31,
      "outputs": [
        {
          "output_type": "stream",
          "name": "stdout",
          "text": [
            "True\n"
          ]
        }
      ]
    },
    {
      "cell_type": "markdown",
      "source": [
        "return:"
      ],
      "metadata": {
        "id": "HyyVqylRF5jc"
      }
    },
    {
      "cell_type": "code",
      "source": [
        "def add_numbers(x, y):\n",
        "    return x + y\n",
        "\n",
        "result = add_numbers(3, 5)\n",
        "print(result)  # Output: 8"
      ],
      "metadata": {
        "colab": {
          "base_uri": "https://localhost:8080/"
        },
        "id": "UO-gRJMxF8H0",
        "outputId": "4a5aefbf-7fd6-4368-f5ef-4d8bee5d3101"
      },
      "execution_count": 32,
      "outputs": [
        {
          "output_type": "stream",
          "name": "stdout",
          "text": [
            "8\n"
          ]
        }
      ]
    },
    {
      "cell_type": "markdown",
      "source": [
        "None:"
      ],
      "metadata": {
        "id": "wly2g7ZPF_9t"
      }
    },
    {
      "cell_type": "code",
      "source": [
        "value = None\n",
        "print(value)  # Output: None"
      ],
      "metadata": {
        "colab": {
          "base_uri": "https://localhost:8080/"
        },
        "id": "x4i7gLnJG9Yu",
        "outputId": "95bdcb83-8203-4d87-c4af-63d743358433"
      },
      "execution_count": 33,
      "outputs": [
        {
          "output_type": "stream",
          "name": "stdout",
          "text": [
            "None\n"
          ]
        }
      ]
    },
    {
      "cell_type": "markdown",
      "source": [
        "continue:"
      ],
      "metadata": {
        "id": "2bwl_52oG_gE"
      }
    },
    {
      "cell_type": "code",
      "source": [
        "for i in range(5):\n",
        "    if i == 2:\n",
        "        continue\n",
        "    print(i)\n",
        "# Output: 0, 1, 3, 4"
      ],
      "metadata": {
        "colab": {
          "base_uri": "https://localhost:8080/"
        },
        "id": "fv8sX-CbHB2n",
        "outputId": "3371dbf9-4dee-44cb-8145-c7341577d237"
      },
      "execution_count": 34,
      "outputs": [
        {
          "output_type": "stream",
          "name": "stdout",
          "text": [
            "0\n",
            "1\n",
            "3\n",
            "4\n"
          ]
        }
      ]
    },
    {
      "cell_type": "markdown",
      "source": [
        "for:"
      ],
      "metadata": {
        "id": "5-zSwCShHiuS"
      }
    },
    {
      "cell_type": "code",
      "source": [
        "for i in range(3):\n",
        "    print(i)\n",
        "# Output: 0, 1, 2"
      ],
      "metadata": {
        "colab": {
          "base_uri": "https://localhost:8080/"
        },
        "id": "7IFwBvM1HmWr",
        "outputId": "0120d7e2-7300-4ef6-8b41-f6b3485e8db5"
      },
      "execution_count": 35,
      "outputs": [
        {
          "output_type": "stream",
          "name": "stdout",
          "text": [
            "0\n",
            "1\n",
            "2\n"
          ]
        }
      ]
    },
    {
      "cell_type": "markdown",
      "source": [
        "lambda:"
      ],
      "metadata": {
        "id": "t6QiE4gzHr2J"
      }
    },
    {
      "cell_type": "code",
      "source": [
        "add = lambda x, y: x + y\n",
        "result = add(3, 4)\n",
        "print(result)  # Output: 7"
      ],
      "metadata": {
        "colab": {
          "base_uri": "https://localhost:8080/"
        },
        "id": "pOtZ8bggHstT",
        "outputId": "0c37349b-cb7b-4b09-c8d3-dbd4dec2a945"
      },
      "execution_count": 36,
      "outputs": [
        {
          "output_type": "stream",
          "name": "stdout",
          "text": [
            "7\n"
          ]
        }
      ]
    },
    {
      "cell_type": "markdown",
      "source": [
        "try:"
      ],
      "metadata": {
        "id": "tWCuVok_HxOC"
      }
    },
    {
      "cell_type": "code",
      "source": [
        "try:\n",
        "    result = 10 / 0\n",
        "except ZeroDivisionError:\n",
        "    print(\"Error: division by zero\")"
      ],
      "metadata": {
        "colab": {
          "base_uri": "https://localhost:8080/"
        },
        "id": "GJ-OJymoHzP3",
        "outputId": "8f94c8de-ec8f-4ddd-b44c-e7689bc096ac"
      },
      "execution_count": 37,
      "outputs": [
        {
          "output_type": "stream",
          "name": "stdout",
          "text": [
            "Error: division by zero\n"
          ]
        }
      ]
    },
    {
      "cell_type": "markdown",
      "source": [
        "True:"
      ],
      "metadata": {
        "id": "uTQD9nwlIBwn"
      }
    },
    {
      "cell_type": "code",
      "source": [
        "flag = True\n",
        "print(flag)  # Output: True"
      ],
      "metadata": {
        "colab": {
          "base_uri": "https://localhost:8080/"
        },
        "id": "lbm5Hvb-IFSp",
        "outputId": "7f38537b-a336-4170-ccf1-9dcfea8d05f9"
      },
      "execution_count": 38,
      "outputs": [
        {
          "output_type": "stream",
          "name": "stdout",
          "text": [
            "True\n"
          ]
        }
      ]
    },
    {
      "cell_type": "markdown",
      "source": [
        "def:"
      ],
      "metadata": {
        "id": "7XupO-8wIOeq"
      }
    },
    {
      "cell_type": "code",
      "source": [
        "def greet(name):\n",
        "    print(\"Hola , \" + name + \"!\" + \"ESTUDIIIIAAAAA\")\n",
        "\n",
        "greet(\"Kineloko\")  # Output: Hello, Alice!"
      ],
      "metadata": {
        "colab": {
          "base_uri": "https://localhost:8080/"
        },
        "id": "N0H9dDyZIQuQ",
        "outputId": "fdfe6fef-5552-424f-8ab1-da674e5bf240"
      },
      "execution_count": 42,
      "outputs": [
        {
          "output_type": "stream",
          "name": "stdout",
          "text": [
            "Hola , Kineloko!ESTUDIIIIAAAAA\n"
          ]
        }
      ]
    },
    {
      "cell_type": "markdown",
      "source": [
        "from:"
      ],
      "metadata": {
        "id": "EfzOTswJIyBZ"
      }
    },
    {
      "cell_type": "code",
      "source": [
        "#formulas de matematicas\n",
        "import math\n",
        "result = math.sqrt(9)\n",
        "print(result)"
      ],
      "metadata": {
        "colab": {
          "base_uri": "https://localhost:8080/"
        },
        "id": "D8tBRYCiJuV7",
        "outputId": "2a60b3d9-3316-4683-d303-dcc53c51965f"
      },
      "execution_count": 51,
      "outputs": [
        {
          "output_type": "stream",
          "name": "stdout",
          "text": [
            "3.0\n"
          ]
        }
      ]
    },
    {
      "cell_type": "code",
      "source": [
        "import numpy as np\n",
        "import matplotlib.pyplot as plt\n",
        "\n",
        "def graficar_parabola(a, b, c):\n",
        "    # Genera valores de x\n",
        "    x = np.linspace(-10, 10, 1000)\n",
        "\n",
        "    # Calcula los valores de y para la parábola\n",
        "    y = a * x**2 + b * x + c\n",
        "\n",
        "    # Crea el gráfico\n",
        "    plt.figure(figsize=(8, 6))\n",
        "    plt.plot(x, y, label=f\"{a}x^2 + {b}x + {c}\")\n",
        "    plt.xlabel(\"x\")\n",
        "    plt.ylabel(\"y\")\n",
        "    plt.title(\"Gráfico de una Parábola\")\n",
        "    plt.grid(True)\n",
        "    plt.legend()\n",
        "    plt.show()\n",
        "\n",
        "# Ejemplo de uso\n",
        "a = 5\n",
        "b = -7\n",
        "c = 19\n",
        "graficar_parabola(a, b, c)\n"
      ],
      "metadata": {
        "colab": {
          "base_uri": "https://localhost:8080/",
          "height": 525
        },
        "id": "k6LBt1zbMBgw",
        "outputId": "1b364277-595a-4bf8-904c-9fb7f4ab9960"
      },
      "execution_count": 48,
      "outputs": [
        {
          "output_type": "display_data",
          "data": {
            "text/plain": [
              "<Figure size 800x600 with 1 Axes>"
            ],
            "image/png": "[encoded data removed]"
          },
          "metadata": {}
        }
      ]
    },
    {
      "cell_type": "markdown",
      "source": [
        "nonlocal:"
      ],
      "metadata": {
        "id": "3B52bn6QWRvX"
      }
    },
    {
      "cell_type": "code",
      "source": [
        "def outer_function():\n",
        "    x = 10\n",
        "\n",
        "    def inner_function():\n",
        "        nonlocal x\n",
        "        x += 5\n",
        "        print(x)\n",
        "\n",
        "    inner_function()\n",
        "\n",
        "outer_function()  # Output: 15"
      ],
      "metadata": {
        "colab": {
          "base_uri": "https://localhost:8080/"
        },
        "id": "-Vok6obDWV8i",
        "outputId": "108d33ae-cb62-465d-c120-dd5142c91cb7"
      },
      "execution_count": 52,
      "outputs": [
        {
          "output_type": "stream",
          "name": "stdout",
          "text": [
            "15\n"
          ]
        }
      ]
    },
    {
      "cell_type": "markdown",
      "source": [
        "while:"
      ],
      "metadata": {
        "id": "H1YCEwU5WasH"
      }
    },
    {
      "cell_type": "code",
      "source": [
        "count = 0\n",
        "while count < 10:\n",
        "    print(count)\n",
        "    count += 1\n",
        "# Output: 0, 1, 2"
      ],
      "metadata": {
        "colab": {
          "base_uri": "https://localhost:8080/"
        },
        "id": "LxgfrJ0vWeyq",
        "outputId": "fbd67588-76fd-42a3-b8da-8f01d0b38af3"
      },
      "execution_count": 55,
      "outputs": [
        {
          "output_type": "stream",
          "name": "stdout",
          "text": [
            "0\n",
            "1\n",
            "2\n",
            "3\n",
            "4\n",
            "5\n",
            "6\n",
            "7\n",
            "8\n",
            "9\n"
          ]
        }
      ]
    },
    {
      "cell_type": "markdown",
      "source": [
        "and:"
      ],
      "metadata": {
        "id": "1G-byWjdWpGT"
      }
    },
    {
      "cell_type": "code",
      "source": [
        "x = True\n",
        "y = False\n",
        "result = x and y\n",
        "print(result)  # Output: False"
      ],
      "metadata": {
        "colab": {
          "base_uri": "https://localhost:8080/"
        },
        "id": "KeC2QJV5WrqA",
        "outputId": "ffa43536-a9f6-43a1-fcbb-fb9a2c73d3e7"
      },
      "execution_count": 56,
      "outputs": [
        {
          "output_type": "stream",
          "name": "stdout",
          "text": [
            "False\n"
          ]
        }
      ]
    },
    {
      "cell_type": "markdown",
      "source": [
        "\n",
        "del:"
      ],
      "metadata": {
        "id": "JMHQNRx5W0CP"
      }
    },
    {
      "cell_type": "code",
      "source": [
        "x = 5\n",
        "del x\n",
        "# The variable x is deleted, attempting to use it will result in an error"
      ],
      "metadata": {
        "id": "yLOI1yi9W4Yu"
      },
      "execution_count": 57,
      "outputs": []
    },
    {
      "cell_type": "markdown",
      "source": [
        "global:"
      ],
      "metadata": {
        "id": "QfC7PYl0W-RI"
      }
    },
    {
      "cell_type": "code",
      "source": [
        "global_variable = 42+3*4\n",
        "\n",
        "def print_global():\n",
        "    print(global_variable)\n",
        "\n",
        "print_global()  # Output: 42 se le hizo cambio a la operacion matematica"
      ],
      "metadata": {
        "colab": {
          "base_uri": "https://localhost:8080/"
        },
        "id": "MYU1PoamXBbq",
        "outputId": "4a08c336-9715-4608-d122-b4fbaca03d79"
      },
      "execution_count": 63,
      "outputs": [
        {
          "output_type": "stream",
          "name": "stdout",
          "text": [
            "54\n"
          ]
        }
      ]
    },
    {
      "cell_type": "markdown",
      "source": [
        "not:"
      ],
      "metadata": {
        "id": "39qn1LqRXeaO"
      }
    },
    {
      "cell_type": "code",
      "source": [
        "x = True\n",
        "result = not x\n",
        "print(result)  # Output: False"
      ],
      "metadata": {
        "colab": {
          "base_uri": "https://localhost:8080/"
        },
        "id": "PvQSj8RIXjde",
        "outputId": "e41ffb3b-e7ac-4e06-9ae1-a835ff043e38"
      },
      "execution_count": 64,
      "outputs": [
        {
          "output_type": "stream",
          "name": "stdout",
          "text": [
            "False\n"
          ]
        }
      ]
    },
    {
      "cell_type": "markdown",
      "source": [
        "\n",
        "with:"
      ],
      "metadata": {
        "id": "m-IU1iaDXt9W"
      }
    },
    {
      "cell_type": "code",
      "source": [
        "with open(\"example.txt\", \"r\") as file:\n",
        "    content = file.read()\n",
        "    print(content)\n",
        "# Ensure that the file is properly closed after the block\n"
      ],
      "metadata": {
        "colab": {
          "base_uri": "https://localhost:8080/",
          "height": 227
        },
        "id": "OvrSv5psXwIN",
        "outputId": "942dc0fd-dffc-424b-d3e6-9fd1db61b09c"
      },
      "execution_count": 65,
      "outputs": [
        {
          "output_type": "error",
          "ename": "FileNotFoundError",
          "evalue": "[Errno 2] No such file or directory: 'example.txt'",
          "traceback": [
            "\u001b[0;31m---------------------------------------------------------------------------\u001b[0m",
            "\u001b[0;31mFileNotFoundError\u001b[0m                         Traceback (most recent call last)",
            "\u001b[0;32m<ipython-input-65-cef7d4f23f56>\u001b[0m in \u001b[0;36m<cell line: 1>\u001b[0;34m()\u001b[0m\n\u001b[0;32m----> 1\u001b[0;31m \u001b[0;32mwith\u001b[0m \u001b[0mopen\u001b[0m\u001b[0;34m(\u001b[0m\u001b[0;34m\"example.txt\"\u001b[0m\u001b[0;34m,\u001b[0m \u001b[0;34m\"r\"\u001b[0m\u001b[0;34m)\u001b[0m \u001b[0;32mas\u001b[0m \u001b[0mfile\u001b[0m\u001b[0;34m:\u001b[0m\u001b[0;34m\u001b[0m\u001b[0;34m\u001b[0m\u001b[0m\n\u001b[0m\u001b[1;32m      2\u001b[0m     \u001b[0mcontent\u001b[0m \u001b[0;34m=\u001b[0m \u001b[0mfile\u001b[0m\u001b[0;34m.\u001b[0m\u001b[0mread\u001b[0m\u001b[0;34m(\u001b[0m\u001b[0;34m)\u001b[0m\u001b[0;34m\u001b[0m\u001b[0;34m\u001b[0m\u001b[0m\n\u001b[1;32m      3\u001b[0m     \u001b[0mprint\u001b[0m\u001b[0;34m(\u001b[0m\u001b[0mcontent\u001b[0m\u001b[0;34m)\u001b[0m\u001b[0;34m\u001b[0m\u001b[0;34m\u001b[0m\u001b[0m\n\u001b[1;32m      4\u001b[0m \u001b[0;31m# Ensure that the file is properly closed after the block\u001b[0m\u001b[0;34m\u001b[0m\u001b[0;34m\u001b[0m\u001b[0m\n",
            "\u001b[0;31mFileNotFoundError\u001b[0m: [Errno 2] No such file or directory: 'example.txt'"
          ]
        }
      ]
    },
    {
      "cell_type": "markdown",
      "source": [
        "\n",
        "as:"
      ],
      "metadata": {
        "id": "BC4uA0ovYJ39"
      }
    },
    {
      "cell_type": "code",
      "source": [
        "original_list = [1, 2, 3]\n",
        "new_list = original_list.copy()  # 'as' is used here to create a copy of the list\n",
        "print(new_list)  # Output: [1, 2, 3]"
      ],
      "metadata": {
        "colab": {
          "base_uri": "https://localhost:8080/"
        },
        "id": "Asl1axLsYO69",
        "outputId": "a0b54cd6-960e-44cb-d70a-807a481beacb"
      },
      "execution_count": 66,
      "outputs": [
        {
          "output_type": "stream",
          "name": "stdout",
          "text": [
            "[1, 2, 3]\n"
          ]
        }
      ]
    },
    {
      "cell_type": "markdown",
      "source": [
        "\n",
        "elif:"
      ],
      "metadata": {
        "id": "iPuHYOonYXwO"
      }
    },
    {
      "cell_type": "code",
      "source": [
        "x = 10\n",
        "\n",
        "if x > 5:\n",
        "    print(\"x is greater than 5\")\n",
        "elif x == 5:\n",
        "    print(\"x is equal to 5\")\n",
        "else:\n",
        "    print(\"x is less than 5\")"
      ],
      "metadata": {
        "colab": {
          "base_uri": "https://localhost:8080/"
        },
        "id": "zprouS1IYchy",
        "outputId": "616af966-5e59-4590-f8da-600735cd9469"
      },
      "execution_count": 70,
      "outputs": [
        {
          "output_type": "stream",
          "name": "stdout",
          "text": [
            "x is less than 5\n"
          ]
        }
      ]
    },
    {
      "cell_type": "markdown",
      "source": [
        "if:"
      ],
      "metadata": {
        "id": "HwJZeKaEYwPs"
      }
    },
    {
      "cell_type": "code",
      "source": [
        "x = 7\n",
        "\n",
        "if x > 5:\n",
        "    print(\"x is greater than 5\")\n",
        "else:\n",
        "    print(\"x is not greater than 5\")"
      ],
      "metadata": {
        "colab": {
          "base_uri": "https://localhost:8080/"
        },
        "id": "ekkfKBbOYzPd",
        "outputId": "9a924631-fa6c-4c23-a33a-dfc4def96435"
      },
      "execution_count": 71,
      "outputs": [
        {
          "output_type": "stream",
          "name": "stdout",
          "text": [
            "x is greater than 5\n"
          ]
        }
      ]
    },
    {
      "cell_type": "markdown",
      "source": [
        "or:"
      ],
      "metadata": {
        "id": "ZewniFxuY3WW"
      }
    },
    {
      "cell_type": "code",
      "source": [
        "x = True\n",
        "y = False\n",
        "result = x or y\n",
        "print(result)  # Output: True"
      ],
      "metadata": {
        "colab": {
          "base_uri": "https://localhost:8080/"
        },
        "id": "Wkay5xqGY8KY",
        "outputId": "266223f8-c044-4d6f-e152-d7ac98a99a0a"
      },
      "execution_count": 72,
      "outputs": [
        {
          "output_type": "stream",
          "name": "stdout",
          "text": [
            "True\n"
          ]
        }
      ]
    },
    {
      "cell_type": "markdown",
      "source": [
        "yield:"
      ],
      "metadata": {
        "id": "ckXwjbKmZPqO"
      }
    },
    {
      "cell_type": "code",
      "source": [
        "def generate_numbers():\n",
        "    for i in range(3):\n",
        "        yield i\n",
        "\n",
        "for number in generate_numbers():\n",
        "    print(number)\n",
        "# Output: 0, 1, 2"
      ],
      "metadata": {
        "colab": {
          "base_uri": "https://localhost:8080/"
        },
        "id": "PR6GGGPrZTcb",
        "outputId": "cb847754-5585-4fae-e925-5a044685a9c6"
      },
      "execution_count": 73,
      "outputs": [
        {
          "output_type": "stream",
          "name": "stdout",
          "text": [
            "0\n",
            "1\n",
            "2\n"
          ]
        }
      ]
    },
    {
      "cell_type": "markdown",
      "source": [
        "\n",
        "assert:"
      ],
      "metadata": {
        "id": "oMGOHQsqcwk-"
      }
    },
    {
      "cell_type": "code",
      "source": [
        "x = 5\n",
        "assert x == 5, \"Error: x is not equal to 5\"\n",
        "# If the condition is False, an AssertionError is raised with the specified error message"
      ],
      "metadata": {
        "id": "vudh-UuodJzo"
      },
      "execution_count": 75,
      "outputs": []
    },
    {
      "cell_type": "markdown",
      "source": [
        "\n",
        "else:"
      ],
      "metadata": {
        "id": "YXPipNoFdPe3"
      }
    },
    {
      "cell_type": "code",
      "source": [
        "x = 10\n",
        "\n",
        "if x > 5:\n",
        "    print(\"x is greater than 5\")\n",
        "else:\n",
        "    print(\"x is not greater than 5\")"
      ],
      "metadata": {
        "colab": {
          "base_uri": "https://localhost:8080/"
        },
        "id": "5zNbmtp7dTbY",
        "outputId": "a06a8396-f59f-4856-a95f-abca0a971f94"
      },
      "execution_count": 76,
      "outputs": [
        {
          "output_type": "stream",
          "name": "stdout",
          "text": [
            "x is greater than 5\n"
          ]
        }
      ]
    },
    {
      "cell_type": "markdown",
      "source": [
        "pass:"
      ],
      "metadata": {
        "id": "xg-ajlDCdfhX"
      }
    },
    {
      "cell_type": "code",
      "source": [
        "def my_function():\n",
        "    # Placeholder function with no implementation\n",
        "    pass"
      ],
      "metadata": {
        "id": "QZw9Bf8Vdhv_"
      },
      "execution_count": 78,
      "outputs": []
    },
    {
      "cell_type": "markdown",
      "source": [
        "\n",
        "break:"
      ],
      "metadata": {
        "id": "Ojieq63qdkrX"
      }
    },
    {
      "cell_type": "code",
      "source": [
        "for i in range(5):\n",
        "    if i == 3:\n",
        "        break\n",
        "    print(i)\n",
        "# Output: 0, 1, 2"
      ],
      "metadata": {
        "colab": {
          "base_uri": "https://localhost:8080/"
        },
        "id": "87-yx5eSdpgH",
        "outputId": "25513f65-b3af-4883-b7f9-9e5647f96073"
      },
      "execution_count": 79,
      "outputs": [
        {
          "output_type": "stream",
          "name": "stdout",
          "text": [
            "0\n",
            "1\n",
            "2\n"
          ]
        }
      ]
    },
    {
      "cell_type": "markdown",
      "source": [
        "except:"
      ],
      "metadata": {
        "id": "q8JlxZFndrx_"
      }
    },
    {
      "cell_type": "code",
      "source": [
        "try:\n",
        "    result = 10 / 0\n",
        "except ZeroDivisionError:\n",
        "    print(\"Error: division by zero\")"
      ],
      "metadata": {
        "colab": {
          "base_uri": "https://localhost:8080/"
        },
        "id": "JYIgj_xZdtvn",
        "outputId": "c793a127-c62a-4f8b-8d1d-62c68b08bca2"
      },
      "execution_count": 80,
      "outputs": [
        {
          "output_type": "stream",
          "name": "stdout",
          "text": [
            "Error: division by zero\n"
          ]
        }
      ]
    },
    {
      "cell_type": "markdown",
      "source": [
        "\n",
        "in:"
      ],
      "metadata": {
        "id": "gGXJFmbFdyx0"
      }
    },
    {
      "cell_type": "code",
      "source": [
        "my_list = [1, 2, 4, 5]\n",
        "result = 3 in my_list\n",
        "print(result)  # este identifica el elemento existente en la lista si esta o no esta"
      ],
      "metadata": {
        "colab": {
          "base_uri": "https://localhost:8080/"
        },
        "id": "gK-oxo98dzpF",
        "outputId": "c475537a-35b2-46cd-b6ad-528130b5bc02"
      },
      "execution_count": 82,
      "outputs": [
        {
          "output_type": "stream",
          "name": "stdout",
          "text": [
            "False\n"
          ]
        }
      ]
    }
  ]
}